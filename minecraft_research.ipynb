{
 "cells": [
  {
   "cell_type": "markdown",
   "id": "e58fa707-3ac6-4ea2-b1c5-ada3939d011e",
   "metadata": {},
   "source": [
    "# Predicting Usage of a Video Game Research Server\n",
    "\n",
    "## Introduction"
   ]
  },
  {
   "cell_type": "markdown",
   "id": "088c2e35-72aa-43c4-9d2a-9e5f91ab8279",
   "metadata": {},
   "source": [
    "[A Computer Science research group](https://plai.cs.ubc.ca/) at UBC collected data regarding how, and what kind of people play video games. This was done by them setting up a Minecraft server, allowing players to play however they liked, and collecting that data. While they are interested in 3 broad questions, my aim is to try and answer this one: \n",
    "\n",
    "*We are interested in demand forecasting, namely, what time windows are most likely to have large number of simultaneous players. This is because we need to ensure that the number of licenses on hand is sufficiently large to accommodate all parallel players with high probability.*\n",
    "\n",
    "With the two data files provided of player data and play session data, my goal is to wrangle, separate, and visualize the necessary data to see which time windows are most likely to have the largest number of simultaneous players. "
   ]
  },
  {
   "cell_type": "markdown",
   "id": "faa25669-11a4-4e4c-80d2-42fcbc487af7",
   "metadata": {},
   "source": [
    "## 1. Set-up and wrangling"
   ]
  },
  {
   "cell_type": "code",
   "execution_count": null,
   "id": "d9f22dc3-3720-4bea-95f3-5c9dc1b82029",
   "metadata": {},
   "outputs": [],
   "source": []
  }
 ],
 "metadata": {
  "kernelspec": {
   "display_name": "R",
   "language": "R",
   "name": "ir"
  },
  "language_info": {
   "codemirror_mode": "r",
   "file_extension": ".r",
   "mimetype": "text/x-r-source",
   "name": "R",
   "pygments_lexer": "r",
   "version": "4.3.3"
  }
 },
 "nbformat": 4,
 "nbformat_minor": 5
}
